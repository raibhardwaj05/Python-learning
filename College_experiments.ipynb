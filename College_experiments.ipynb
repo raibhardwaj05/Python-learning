{
 "cells": [
  {
   "cell_type": "code",
   "execution_count": 6,
   "id": "3e083707-65ae-4a67-b4c8-927a500f2430",
   "metadata": {},
   "outputs": [
    {
     "name": "stdout",
     "output_type": "stream",
     "text": [
      "Bhardwaj Rai\n",
      "BHARDWAJ RAI\n",
      "bhardwaj rai\n",
      "Bhardwaj\n"
     ]
    }
   ],
   "source": [
    "studentName = \"Bhardwaj Rai\"\n",
    "print(studentName)\n",
    "print(studentName.upper())\n",
    "print(studentName.lower())\n",
    "print(studentName.split()[0])"
   ]
  },
  {
   "cell_type": "code",
   "execution_count": 24,
   "id": "eb9530aa-a61c-4555-aacc-46af9c78932c",
   "metadata": {},
   "outputs": [
    {
     "name": "stdout",
     "output_type": "stream",
     "text": [
      "[30, 40, 50, 60, 100]\n",
      "30, 40, 50, 60, 100\n"
     ]
    }
   ],
   "source": [
    "# list\n",
    "import array\n",
    "# \"i\" = integer, \"f\" = float, \"d\" = double, \"b\" = char ===>>> specifies the datatypoe of the array elements\n",
    "marks= array.array(\"i\", [30, 40, 50, 60])\n",
    "marks.append(100)\n",
    "marks_list = marks.tolist()\n",
    "print(marks_list)\n",
    "\n",
    "marks_str = \", \".join(str(x) for x in marks_list)\n",
    "print(marks_str)"
   ]
  },
  {
   "cell_type": "code",
   "execution_count": 25,
   "id": "ca876b30-e708-414d-9114-376329a2484c",
   "metadata": {},
   "outputs": [
    {
     "name": "stdout",
     "output_type": "stream",
     "text": [
      "Bhardwaj\n",
      "name -> Bhardwaj\n",
      "age -> 20\n",
      "marks -> 30, 40, 50, 60, 100\n"
     ]
    }
   ],
   "source": [
    "# dictionaries \n",
    "student_info = {\n",
    "    \"name\": \"Bhardwaj\",\n",
    "    \"age\": 20,\n",
    "    \"marks\": marks_str\n",
    "}\n",
    "print(student_info[\"name\"])\n",
    "\n",
    "for key, value in student_info.items():\n",
    "    print(f\"{key} -> {value}\")"
   ]
  },
  {
   "cell_type": "code",
   "execution_count": 33,
   "id": "af65eead-73c7-40dd-94e8-9ead13db9cc1",
   "metadata": {},
   "outputs": [
    {
     "name": "stdout",
     "output_type": "stream",
     "text": [
      "{'COA', 'dbms', 'maths'}\n",
      "COA, dbms, maths\n",
      "{'OS', 'COA', 'DSGT'}\n",
      "OS, COA, DSGT\n",
      "common: COA\n",
      "All: DSGT, COA, OS, dbms, maths\n"
     ]
    }
   ],
   "source": [
    "# sets\n",
    "cse_subjects = {\"maths\", \"dbms\"}\n",
    "cse_subjects.add(\"COA\")\n",
    "print(cse_subjects)\n",
    "\n",
    "cse = \", \".join(str(x) for x in cse_subjects)\n",
    "print(cse)\n",
    "\n",
    "aids_subjects = {\"OS\", \"DSGT\", \"COA\"}\n",
    "print(aids_subjects)\n",
    "\n",
    "aids = \", \".join(str(x) for x in aids_subjects)\n",
    "print(aids)\n",
    "\n",
    "# union and intersection\n",
    "common = cse_subjects.intersection(aids_subjects)\n",
    "print(f\"common: {\", \".join(str(x) for x in common)}\")\n",
    "\n",
    "all_subjects = cse_subjects.union(aids_subjects)\n",
    "print(f\"All: {\", \".join(str(x) for x in all_subjects)}\")"
   ]
  },
  {
   "cell_type": "code",
   "execution_count": 35,
   "id": "ebecee72-d2d4-45ad-a146-3a0ca43aee01",
   "metadata": {},
   "outputs": [
    {
     "name": "stdout",
     "output_type": "stream",
     "text": [
      "05/07/2006\n",
      "O+\n"
     ]
    }
   ],
   "source": [
    "# Tuple ==>> that are permanent\n",
    "my_details = (\"05/07/2006\", \"O+\")\n",
    "dob, blood_grp = my_details\n",
    "print(dob)\n",
    "print(blood_grp)"
   ]
  },
  {
   "cell_type": "code",
   "execution_count": 42,
   "id": "0ed0f481-b9cb-41a4-9b72-abf7ec859097",
   "metadata": {},
   "outputs": [
    {
     "name": "stdin",
     "output_type": "stream",
     "text": [
      "Book ID:  123\n",
      "Title:  abc\n",
      "Book ID:  456\n",
      "Title:  svg\n"
     ]
    },
    {
     "name": "stdout",
     "output_type": "stream",
     "text": [
      "123 ==>> abc\n",
      "456 ==>> svg\n"
     ]
    }
   ],
   "source": [
    "# dictionary input\n",
    "library = {}\n",
    "\n",
    "for i in range(0,2):\n",
    "    bookid = int(input(\"Book ID: \"))\n",
    "    title = input(\"Title: \")\n",
    "    \n",
    "    library[bookid] ={\n",
    "        \"Title\": title\n",
    "    }\n",
    "\n",
    "for bookid, details in library.items():\n",
    "    print(f\"{bookid} ==>> {details['Title']}\")"
   ]
  },
  {
   "cell_type": "code",
   "execution_count": 49,
   "id": "64893f27-3f83-4f2c-9e03-80626a907034",
   "metadata": {},
   "outputs": [
    {
     "name": "stdout",
     "output_type": "stream",
     "text": [
      "This is Parent\n",
      "Child is born\n",
      "----------------------------------------\n",
      "Parent: xyz\n",
      "Child: abc\n"
     ]
    }
   ],
   "source": [
    "class Parent:\n",
    "    def __init__(self):\n",
    "        print(\"This is Parent\")\n",
    "    def parentName(self, name):\n",
    "        print(\"Parent:\", name)\n",
    "\n",
    "class Child(Parent):\n",
    "    def __init__(self, name):\n",
    "        super().__init__()\n",
    "        self.name = name\n",
    "        print(\"Child is born\")\n",
    "\n",
    "    def childName(self):\n",
    "        print(f\"Child: {self.name}\")\n",
    "\n",
    "child = Child(\"abc\")\n",
    "print(\"-\"*40)\n",
    "\n",
    "child.parentName(\"xyz\")\n",
    "child.childName()"
   ]
  },
  {
   "cell_type": "code",
   "execution_count": 70,
   "id": "36fea7ef-8f5f-4308-8972-558f77d38fb7",
   "metadata": {},
   "outputs": [],
   "source": [
    "# file handling\n",
    "\n",
    "# create file\n",
    "with open(\"sample.txt\", \"w\") as f:\n",
    "    f.write(\"\\n\"+ \"Hello Bhardwaj Rai\")"
   ]
  },
  {
   "cell_type": "code",
   "execution_count": 69,
   "id": "d6a80aa7-f696-4bef-9960-b866f2cf67a2",
   "metadata": {},
   "outputs": [
    {
     "name": "stdout",
     "output_type": "stream",
     "text": [
      "\n",
      "Hello Bhardwaj Rai\n",
      "Hacking\n",
      "Hacking\n"
     ]
    }
   ],
   "source": [
    "# read file\n",
    "with open(\"sample.txt\", \"r\") as f:\n",
    "    text = f.read()\n",
    "\n",
    "print(text)"
   ]
  },
  {
   "cell_type": "code",
   "execution_count": 68,
   "id": "b839ca39-439e-4057-864a-f1d8784037ef",
   "metadata": {},
   "outputs": [],
   "source": [
    "# append data in the file\n",
    "with open(\"sample.txt\", \"a\") as f:\n",
    "    f.write(\"\\n\"+ \"Hacking\")"
   ]
  },
  {
   "cell_type": "code",
   "execution_count": 67,
   "id": "35dc660d-5226-4958-b8b4-c385260e733f",
   "metadata": {},
   "outputs": [
    {
     "name": "stdout",
     "output_type": "stream",
     "text": [
      "3\n",
      "4\n",
      "27\n"
     ]
    }
   ],
   "source": [
    "# find lines words and characters in the file\n",
    "lines = 0\n",
    "words = 0\n",
    "characters = 0\n",
    "\n",
    "with open(\"sample.txt\") as f:\n",
    "    for line in f:\n",
    "        lines += 1\n",
    "        words += len(line.split())\n",
    "        characters += len(line)\n",
    "print(lines)\n",
    "print(words)\n",
    "print(characters)"
   ]
  },
  {
   "cell_type": "code",
   "execution_count": 66,
   "id": "77fa411f-e1b9-4ece-a594-2c88966bef53",
   "metadata": {},
   "outputs": [
    {
     "name": "stdout",
     "output_type": "stream",
     "text": [
      "C\n",
      "College Practicals Jupyter\n",
      "DBMS chap 1.docx\n",
      "DBMS chap 1.pdf\n",
      "Java\n",
      "Python\n",
      "SQL\n",
      "Web Development\n"
     ]
    }
   ],
   "source": [
    "# list the dirtectories in the previous directory = (..)\n",
    "import os\n",
    "\n",
    "files = os.listdir(\"..\")\n",
    "for file in files:\n",
    "    print(file)"
   ]
  },
  {
   "cell_type": "code",
   "execution_count": 78,
   "id": "4fb77150-fbc5-44d2-85c4-56144bcfe4bf",
   "metadata": {},
   "outputs": [
    {
     "name": "stdin",
     "output_type": "stream",
     "text": [
      "a:  6\n",
      "b:  3\n"
     ]
    },
    {
     "name": "stdout",
     "output_type": "stream",
     "text": [
      "Result: 2.0\n"
     ]
    }
   ],
   "source": [
    "# exception handling\n",
    "try: \n",
    "    a = int(input(\"a: \"))\n",
    "    b = int(input(\"b: \"))\n",
    "    c = a / b\n",
    "except ValueError:\n",
    "    print(\"invalid input\")\n",
    "except ZeroDivisionError:\n",
    "    print(\"b cannot be negative\")\n",
    "else:\n",
    "    print(f\"Result: {c}\")"
   ]
  },
  {
   "cell_type": "code",
   "execution_count": 8,
   "id": "0526ae19-dcf4-4e2c-abc8-951f2e38d5a2",
   "metadata": {},
   "outputs": [
    {
     "name": "stdout",
     "output_type": "stream",
     "text": [
      "0\n",
      "a\n",
      "b\n",
      "1\n",
      "c\n",
      "2\n",
      "d\n",
      "3\n",
      "e\n",
      "4\n",
      "f\n",
      "5\n",
      "Both threadscompleted\n"
     ]
    }
   ],
   "source": [
    "# Threading\n",
    "import threading\n",
    "import time \n",
    "\n",
    "def print_numbers():\n",
    "    for i in range(0, 6):\n",
    "        print(i)\n",
    "        time.sleep(1)\n",
    "\n",
    "def print_alpha():\n",
    "    for ch in [\"a\", \"b\", \"c\", \"d\", \"e\", \"f\"]:\n",
    "        print(ch)\n",
    "        time.sleep(1)\n",
    "\n",
    "\n",
    "t1 = threading.Thread(target= print_numbers)\n",
    "t2 = threading.Thread(target= print_alpha)\n",
    "\n",
    "t1.start()\n",
    "t2.start()\n",
    "\n",
    "t1.join()\n",
    "t2.join()\n",
    "print(\"Both threadscompleted\")"
   ]
  },
  {
   "cell_type": "code",
   "execution_count": 15,
   "id": "ae2ce316-9a6c-4787-b13d-7e07d6513713",
   "metadata": {},
   "outputs": [
    {
     "name": "stdout",
     "output_type": "stream",
     "text": [
      "Students\n",
      " [(1, 'XYZ', 20), (2, 'abc', 18), (3, 'esp', 25)]\n",
      "Students\n",
      " [(1, 'XYZ', 20), (2, 'ABC', 21), (3, 'esp', 25)]\n",
      "Students\n",
      " [(1, 'XYZ', 20), (2, 'ABC', 21)]\n"
     ]
    }
   ],
   "source": [
    "# SQLite\n",
    "import sqlite3\n",
    "\n",
    "conn = sqlite3.connect(\"Students.db\")\n",
    "cursor = conn.cursor()\n",
    "\n",
    "cursor.execute(\"\"\"\n",
    "    CREATE TABLE IF NOT EXISTS students(\n",
    "        id INTEGER PRIMARY KEY AUTOINCREMENT,\n",
    "        name TEXT,\n",
    "        age INTEGER\n",
    "    )\n",
    "\"\"\")\n",
    "\n",
    "# create\n",
    "def insert_student(name, age):\n",
    "    cursor.execute(\"INSERT INTO students (name, age) VALUES (?, ?)\", (name, age))\n",
    "    conn.commit()\n",
    "\n",
    "# read\n",
    "def get_students():\n",
    "    cursor.execute(\"SELECT * FROM students\")\n",
    "    return cursor.fetchall()\n",
    "\n",
    "# update\n",
    "def update_student(STDid, name, age):\n",
    "    cursor.execute(\"UPDATE students SET name = ?, age = ? WHERE id = ?\", (name, age, STDid))\n",
    "    conn.commit()\n",
    "\n",
    "# delete\n",
    "def delete_student(STDid):\n",
    "    cursor.execute(\"DELETE FROM students WHERE id = ?\", (STDid,))\n",
    "    conn.commit()\n",
    "\n",
    "insert_student(\"XYZ\", 20)\n",
    "insert_student(\"abc\", 18)\n",
    "insert_student(\"esp\", 25)\n",
    "\n",
    "print(\"Students\\n\",  get_students())\n",
    "\n",
    "update_student(2, \"ABC\", 21)\n",
    "print(\"Students\\n\",  get_students())\n",
    "\n",
    "delete_student(3)\n",
    "print(\"Students\\n\",  get_students())\n",
    "\n",
    "conn.close()"
   ]
  },
  {
   "cell_type": "code",
   "execution_count": 18,
   "id": "ae698af9-5a2d-4bd4-a51a-f41e0a357acd",
   "metadata": {},
   "outputs": [
    {
     "name": "stdout",
     "output_type": "stream",
     "text": [
      "stack: [1, 2, 3, 4]\n",
      "stack top: 4\n",
      "Popped: 4\n",
      "Is empty: False\n",
      "stack: [1, 2, 3, 'Z', 'A']\n",
      "stack top: A\n",
      "Popped: A\n",
      "Is empty: False\n"
     ]
    }
   ],
   "source": [
    "# stack data structures\n",
    "stack = []\n",
    "\n",
    "stack.append(1)\n",
    "stack.append(2)\n",
    "stack.append(3)\n",
    "stack.append(4)\n",
    "\n",
    "print(f\"stack: {stack}\")\n",
    "print(f\"stack top: {stack[-1]}\")\n",
    "print(f\"Popped: {stack.pop()}\")\n",
    "print(f\"Is empty: {len(stack) == 0}\")\n",
    "\n",
    "# from collections import deque\n",
    "\n",
    "stack.append(\"Z\")\n",
    "stack.append(\"A\")\n",
    "\n",
    "print(f\"stack: {stack}\")\n",
    "print(f\"stack top: {stack[-1]}\")\n",
    "print(f\"Popped: {stack.pop()}\")\n",
    "print(f\"Is empty: {len(stack) == 0}\")"
   ]
  },
  {
   "cell_type": "code",
   "execution_count": 22,
   "id": "7cb2aece-a3e9-4767-871e-053a5fa43479",
   "metadata": {},
   "outputs": [
    {
     "name": "stdout",
     "output_type": "stream",
     "text": [
      "5 -> 60 -> 25 -> 50 -> None\n"
     ]
    }
   ],
   "source": [
    "# linked list\n",
    "class Node:\n",
    "    def __init__(self, data):\n",
    "        self.data = data\n",
    "        self.next = None\n",
    "\n",
    "class Linked_List:\n",
    "    def __init__(self):\n",
    "        self.head = None\n",
    "\n",
    "    def insert_beginning(self, data):\n",
    "        newnode = Node(data)\n",
    "        newnode.next = self.head\n",
    "        self.head = newnode\n",
    "\n",
    "    def insert_end(self, data):\n",
    "        newnode = Node(data)\n",
    "\n",
    "        if self.head is None:\n",
    "            self.head = newnode \n",
    "            return \n",
    "        \n",
    "        temp = self.head\n",
    "        while temp.next:\n",
    "            temp = temp.next\n",
    "\n",
    "        temp.next = newnode\n",
    "\n",
    "    def insert_value(self, target, data):\n",
    "        temp = self.head\n",
    "        while temp and temp.data != target:\n",
    "            temp = temp.next\n",
    "\n",
    "        if temp is None:\n",
    "            print(\"Value not found\")\n",
    "            return\n",
    "        \n",
    "        newnode = Node(data)\n",
    "        newnode.next = temp.next\n",
    "        temp.next = newnode\n",
    "\n",
    "    def insert_pos(self, pos, data):\n",
    "        if pos == 0:\n",
    "            self.insert_beginning(data)\n",
    "            return\n",
    "        \n",
    "        temp = self.head\n",
    "        count = 0\n",
    "        while temp and count < pos - 1:\n",
    "            temp = temp.next\n",
    "\n",
    "        if temp is None:\n",
    "            print(\"Invalid position\")\n",
    "            return\n",
    "        \n",
    "        newnode = Node(data)\n",
    "        newnode.next = temp.next\n",
    "        temp.next = newnode\n",
    "\n",
    "    def display(self):\n",
    "        if self.head is None:\n",
    "            print(\"Empty\")\n",
    "            return\n",
    "\n",
    "        temp = self.head\n",
    "        while temp:\n",
    "            print(temp.data, end = \" -> \")\n",
    "            temp = temp.next\n",
    "\n",
    "        print(\"None\")\n",
    "\n",
    "ll = Linked_List()\n",
    "ll.insert_beginning(5)\n",
    "ll.insert_end(25)\n",
    "ll.insert_value(25, 50)\n",
    "ll.insert_pos(1, 60)\n",
    "ll.display()"
   ]
  },
  {
   "cell_type": "code",
   "execution_count": 47,
   "id": "eb4db4be-13c4-473a-882d-bc4af2a9a952",
   "metadata": {},
   "outputs": [],
   "source": [
    "# GUI\n",
    "import tkinter as tk\n",
    "\n",
    "r = tk.Tk()\n",
    "r.title(\"GUI\")\n",
    "r.geometry(\"500x500\")\n",
    "r.configure(bg = \"grey\")\n",
    "\n",
    "tk.Label(r, text = \"Enter Name\", bg = \"grey\").pack(pady = 10)\n",
    "name = tk.Entry(r, width = 25)\n",
    "name.pack()\n",
    "\n",
    "tk.Label(r, text = \"Select Gender\", bg = \"grey\").pack(pady = 10)\n",
    "gender = tk.StringVar(value = \"Male\")\n",
    "tk.Radiobutton(r, text = \"Male\", variable = gender, value = \"Male\", bg = \"grey\").pack(pady = 2)\n",
    "tk.Radiobutton(r, text = \"Female\", variable = gender, value = \"Female\", bg = \"grey\").pack(pady = 2)\n",
    "\n",
    "agree = tk.BooleanVar()\n",
    "tk.Checkbutton(r, text = \"I agree to all terms\", variable = agree, bg = \"grey\").pack(pady = 10)\n",
    "\n",
    "# label to display submit result\n",
    "result = tk.Label(r, text = \"\", bg= \"grey\", fg = \"yellow\")\n",
    "result.pack(pady = 10)\n",
    "\n",
    "# function for button\n",
    "def submit_button():\n",
    "    naam = name.get()\n",
    "    g = gender.get()\n",
    "    status = \"Agreed\" if agree.get() else \"Not Agreed\"\n",
    "    result.config(text = f\"Name: {naam}\\nGender: {g}\\nStatus: {status}\")\n",
    "\n",
    "tk.Button(text = \"Submit\", command = submit_button).pack(pady = 10)\n",
    "\n",
    "r.mainloop()"
   ]
  },
  {
   "cell_type": "code",
   "execution_count": null,
   "id": "892060b7-d2db-43be-ae71-a57462d912e8",
   "metadata": {},
   "outputs": [],
   "source": []
  }
 ],
 "metadata": {
  "kernelspec": {
   "display_name": "Python 3 (ipykernel)",
   "language": "python",
   "name": "python3"
  },
  "language_info": {
   "codemirror_mode": {
    "name": "ipython",
    "version": 3
   },
   "file_extension": ".py",
   "mimetype": "text/x-python",
   "name": "python",
   "nbconvert_exporter": "python",
   "pygments_lexer": "ipython3",
   "version": "3.13.3"
  }
 },
 "nbformat": 4,
 "nbformat_minor": 5
}
